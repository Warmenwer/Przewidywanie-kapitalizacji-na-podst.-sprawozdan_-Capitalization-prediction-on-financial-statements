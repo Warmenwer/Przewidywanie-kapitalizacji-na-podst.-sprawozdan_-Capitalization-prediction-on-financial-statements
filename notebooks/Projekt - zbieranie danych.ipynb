{
 "cells": [
  {
   "cell_type": "code",
   "execution_count": 1,
   "id": "d952f433-36a9-418a-ab38-e4fa0afdec83",
   "metadata": {},
   "outputs": [],
   "source": [
    "import pandas as pd\n",
    "import numpy as np\n",
    "import matplotlib.pyplot as plt\n",
    "import requests\n",
    "from pathlib import Path"
   ]
  },
  {
   "cell_type": "code",
   "execution_count": 2,
   "id": "c3b80cf5-c8e3-40b8-8ee8-4c4c91627bcb",
   "metadata": {},
   "outputs": [],
   "source": [
    "# Keys\n",
    "# 08c0a5f0eb34249fcb61106ef358773b\n",
    "# qRuma0n87Hz5V7q3w1uvDjLHoqBpT8jr"
   ]
  },
  {
   "cell_type": "markdown",
   "id": "32a193e0-a925-4b2c-9db8-0413527fd359",
   "metadata": {},
   "source": [
    "## Data Staging"
   ]
  },
  {
   "cell_type": "code",
   "execution_count": 3,
   "id": "bb01240c-2dbe-401c-a2ed-e584ef6aedb6",
   "metadata": {},
   "outputs": [],
   "source": [
    "def get_income_statement(ticker):\n",
    "    url = \"https://financialmodelingprep.com/api/v3/income-statement/\" + ticker + \"?period=annual&apikey=qRuma0n87Hz5V7q3w1uvDjLHoqBpT8jr\"\n",
    "    response = requests.get(url)\n",
    "    print(f\"Income statement response: {response} for {ticker}\")\n",
    "    income = response.json()\n",
    "    \n",
    "    return income"
   ]
  },
  {
   "cell_type": "code",
   "execution_count": 4,
   "id": "ec264cb2-8e99-4aed-b2ab-368067f431ce",
   "metadata": {},
   "outputs": [],
   "source": [
    "def get_balance_sheet(ticker):\n",
    "    url = \"https://financialmodelingprep.com/api/v3/balance-sheet-statement/\" + ticker + \"?period=annual&apikey=qRuma0n87Hz5V7q3w1uvDjLHoqBpT8jr\"\n",
    "    response = requests.get(url)\n",
    "    print(f\"Balance sheet response: {response} for {ticker}\")\n",
    "    balance = response.json()\n",
    "    \n",
    "    return balance"
   ]
  },
  {
   "cell_type": "code",
   "execution_count": 5,
   "id": "d91278b2-a795-473d-a6e0-e9c12617e778",
   "metadata": {},
   "outputs": [],
   "source": [
    "def get_cashflow_statement(ticker):\n",
    "    url = \"https://financialmodelingprep.com/api/v3/cash-flow-statement/\" + ticker + \"?period=annual&apikey=qRuma0n87Hz5V7q3w1uvDjLHoqBpT8jr\"\n",
    "    response = requests.get(url)\n",
    "    print(f\"Cashflow statement response: {response} for {ticker}\")\n",
    "    cashflow = response.json()\n",
    "    \n",
    "    return cashflow"
   ]
  },
  {
   "cell_type": "code",
   "execution_count": 6,
   "id": "15163617-7be3-408a-a0c1-63bb2c5c03a6",
   "metadata": {},
   "outputs": [],
   "source": [
    "def get_market_cap2(date_list, ticker):\n",
    "    marketCap = []\n",
    "    for date in date_list:\n",
    "        url = \"https://financialmodelingprep.com/api/v3/historical-market-capitalization/\" + ticker + \"?from=\" + date + \"&to=\" + date + \"&apikey=qRuma0n87Hz5V7q3w1uvDjLHoqBpT8jr\"\n",
    "        response = requests.get(url)\n",
    "        dailyCap = response.json()\n",
    "        if dailyCap == []:\n",
    "            while dailyCap == []:\n",
    "                day = list(date)\n",
    "                if not day[-1] == \"0\":\n",
    "                    day[-1] = str(int(day[-1]) - 1)\n",
    "                else:\n",
    "                    day[-2:] = list(str(int(\"\".join(day[-2:])) - 1))\n",
    "                date = \"\".join(day)\n",
    "                \n",
    "                url = \"https://financialmodelingprep.com/api/v3/historical-market-capitalization/\" + ticker + \"?from=\" + date + \"&to=\" + date + \"&apikey=qRuma0n87Hz5V7q3w1uvDjLHoqBpT8jr\"\n",
    "                response = requests.get(url)\n",
    "                dailyCap = response.json()\n",
    "            else:\n",
    "                marketCap += dailyCap\n",
    "        else:\n",
    "            marketCap += dailyCap\n",
    "                \n",
    "    print(f\"Market cap processing response: {response} for {ticker}\")\n",
    "    return marketCap"
   ]
  },
  {
   "cell_type": "markdown",
   "id": "4715f1fd-6c9a-43f6-adf5-1107ceb37180",
   "metadata": {},
   "source": [
    "#### Aggregate function"
   ]
  },
  {
   "cell_type": "code",
   "execution_count": 7,
   "id": "981e2c8e-fc6f-4d27-85a0-dbf9e5b3172e",
   "metadata": {},
   "outputs": [],
   "source": [
    "def get_reports(ticker):\n",
    "    income = get_income_statement(ticker)\n",
    "    balance = get_balance_sheet(ticker)\n",
    "    cashflow = get_cashflow_statement(ticker)\n",
    "\n",
    "    if ([d['date'] for d in income] == [d['date'] for d in balance] == [d['date'] for d in cashflow]) == True:\n",
    "        date_list = [_['date'] for _ in cashflow]\n",
    "    else:\n",
    "        print(\"Dates on reports don't match!\")\n",
    "    marketCap = get_market_cap2(date_list, ticker)\n",
    "\n",
    "    return income, balance, cashflow, marketCap"
   ]
  },
  {
   "cell_type": "markdown",
   "id": "411d6be6-a984-4cbe-9b9f-08c4114e7ff9",
   "metadata": {},
   "source": [
    "## Data Enrichment"
   ]
  },
  {
   "cell_type": "code",
   "execution_count": 8,
   "id": "56cdfa2b-7d5c-427d-8408-99e6e990d239",
   "metadata": {},
   "outputs": [],
   "source": [
    "def make_dataframe(income, balance, cashflow, marketCap):\n",
    "    reportsCount = len(cashflow)\n",
    "\n",
    "    for x in range(0, reportsCount):\n",
    "        if x == 0:\n",
    "            df = pd.DataFrame(income[x] | balance[x] | cashflow[x] | marketCap[x], index=[x])\n",
    "        else:\n",
    "            df = pd.concat([df, pd.DataFrame(income[x] | balance[x] | cashflow[x] | marketCap[x], index=[x])])\n",
    "            \n",
    "    return df"
   ]
  },
  {
   "cell_type": "code",
   "execution_count": 9,
   "id": "cb07fc43-7004-415e-a273-4cd48cb5fb7c",
   "metadata": {},
   "outputs": [],
   "source": [
    "def remove_statics(df, keys=[\"reportedCurrency\", \"cik\", \"fillingDate\", \"acceptedDate\", \"calendarYear\", \"period\", \"link\", \"finalLink\"]):\n",
    "    for key in keys:\n",
    "        if key in df.columns:\n",
    "            df.pop(key)\n",
    "            \n",
    "    return df"
   ]
  },
  {
   "cell_type": "code",
   "execution_count": 10,
   "id": "2cf1f67f-489a-42ed-88ea-ce521f520d08",
   "metadata": {},
   "outputs": [],
   "source": [
    "def get_target(df):\n",
    "    for i in df.index:\n",
    "        ifor_val = 0\n",
    "        if not i == 0:\n",
    "            if df[\"marketCap\"][i-1] > df[\"marketCap\"][i]:\n",
    "                ifor_val = 1\n",
    "        df.at[i, \"target\"] = ifor_val\n",
    "        \n",
    "    return df"
   ]
  },
  {
   "cell_type": "code",
   "execution_count": 11,
   "id": "d9a4aeb1-5991-4b67-a045-3690f854973c",
   "metadata": {},
   "outputs": [],
   "source": [
    "def drop_oldest_date(df):\n",
    "    df.drop(df.head(1).index, inplace=True)\n",
    "\n",
    "    return df"
   ]
  },
  {
   "cell_type": "markdown",
   "id": "de2bda8c-de9e-474e-b815-d265629de859",
   "metadata": {},
   "source": [
    "#### Aggregate function"
   ]
  },
  {
   "cell_type": "code",
   "execution_count": 12,
   "id": "324782d1-0d0d-4506-8057-db48c386b4c7",
   "metadata": {},
   "outputs": [],
   "source": [
    "def enrich_report(income, balance, cashflow, marketCap):\n",
    "    df = make_dataframe(income, balance, cashflow, marketCap)\n",
    "    df = remove_statics(df)\n",
    "    df = get_target(df)\n",
    "    df = drop_oldest_date(df)\n",
    "    \n",
    "    return df"
   ]
  },
  {
   "cell_type": "markdown",
   "id": "2003da89-afc6-49ec-bd0e-79f27cb5138e",
   "metadata": {},
   "source": [
    "## Data processing"
   ]
  },
  {
   "cell_type": "code",
   "execution_count": 13,
   "id": "d74c810a-2ed2-45b8-a481-a482fff41816",
   "metadata": {},
   "outputs": [],
   "source": [
    "def prepare_report(ticker):\n",
    "    income, balance, cashflow, marketCap = get_reports(ticker)\n",
    "    df = enrich_report(income, balance, cashflow, marketCap)\n",
    "    print(\"Report prepared\")\n",
    "    \n",
    "    return df"
   ]
  },
  {
   "cell_type": "code",
   "execution_count": 14,
   "id": "4a4896ba-6694-47f1-9c02-ef4ae1d75760",
   "metadata": {},
   "outputs": [],
   "source": [
    "def create_parquet():\n",
    "    my_file = Path(\"training_data.parquet\")\n",
    "    if not my_file.is_file():\n",
    "        pd.DataFrame().to_parquet(\"training_data.parquet\")"
   ]
  },
  {
   "cell_type": "code",
   "execution_count": 15,
   "id": "3a016f04-1fb9-4553-b8f7-e2e73c0074b1",
   "metadata": {},
   "outputs": [],
   "source": [
    "def join_and_export(df):\n",
    "    create_parquet()\n",
    "    try:\n",
    "        training_data\n",
    "    except NameError:\n",
    "        training_data = pd.read_parquet(\"training_data.parquet\")\n",
    "\n",
    "    training_data = pd.concat([training_data, df]).reset_index(drop=True)\n",
    "    training_data.to_parquet(\"training_data.parquet\")\n",
    "\n",
    "    return training_data"
   ]
  },
  {
   "cell_type": "code",
   "execution_count": 16,
   "id": "1234f9f9-bcee-4836-bb71-e588c66fb9fe",
   "metadata": {},
   "outputs": [],
   "source": [
    "def prepare_and_export_report(ticker):\n",
    "    df = prepare_report(ticker)\n",
    "    training_data = join_and_export(df)\n",
    "    \n",
    "    return training_data"
   ]
  },
  {
   "cell_type": "code",
   "execution_count": 17,
   "id": "fd3f2bde-5c20-41e2-94dd-d22f41a202d6",
   "metadata": {},
   "outputs": [
    {
     "name": "stdout",
     "output_type": "stream",
     "text": [
      "Income statement response: <Response [200]> for TRV\n",
      "Balance sheet response: <Response [200]> for TRV\n",
      "Cashflow statement response: <Response [200]> for TRV\n",
      "Market cap processing response: <Response [200]> for TRV\n",
      "Report prepared\n",
      "Income statement response: <Response [200]> for SNOW\n",
      "Balance sheet response: <Response [200]> for SNOW\n",
      "Cashflow statement response: <Response [200]> for SNOW\n",
      "Market cap processing response: <Response [200]> for SNOW\n",
      "Report prepared\n",
      "Income statement response: <Response [200]> for BK\n",
      "Balance sheet response: <Response [200]> for BK\n",
      "Cashflow statement response: <Response [200]> for BK\n",
      "Market cap processing response: <Response [200]> for BK\n",
      "Report prepared\n",
      "Income statement response: <Response [200]> for MBGYY\n",
      "Balance sheet response: <Response [200]> for MBGYY\n",
      "Cashflow statement response: <Response [200]> for MBGYY\n",
      "Market cap processing response: <Response [200]> for MBGYY\n",
      "Report prepared\n",
      "Income statement response: <Response [200]> for RYCEY\n",
      "Balance sheet response: <Response [200]> for RYCEY\n",
      "Cashflow statement response: <Response [200]> for RYCEY\n",
      "Market cap processing response: <Response [200]> for RYCEY\n",
      "Report prepared\n",
      "Income statement response: <Response [200]> for DHI\n",
      "Balance sheet response: <Response [200]> for DHI\n",
      "Cashflow statement response: <Response [200]> for DHI\n",
      "Market cap processing response: <Response [200]> for DHI\n",
      "Report prepared\n",
      "Income statement response: <Response [200]> for URI\n",
      "Balance sheet response: <Response [200]> for URI\n",
      "Cashflow statement response: <Response [200]> for URI\n",
      "Market cap processing response: <Response [200]> for URI\n",
      "Report prepared\n",
      "Income statement response: <Response [200]> for NTES\n",
      "Balance sheet response: <Response [200]> for NTES\n",
      "Cashflow statement response: <Response [200]> for NTES\n",
      "Market cap processing response: <Response [200]> for NTES\n",
      "Report prepared\n",
      "Income statement response: <Response [200]> for AZO\n",
      "Balance sheet response: <Response [200]> for AZO\n",
      "Cashflow statement response: <Response [200]> for AZO\n",
      "Market cap processing response: <Response [200]> for AZO\n",
      "Report prepared\n",
      "Income statement response: <Response [200]> for DDOG\n",
      "Balance sheet response: <Response [200]> for DDOG\n",
      "Cashflow statement response: <Response [200]> for DDOG\n",
      "Market cap processing response: <Response [200]> for DDOG\n",
      "Report prepared\n",
      "Income statement response: <Response [200]> for JD\n",
      "Balance sheet response: <Response [200]> for JD\n",
      "Cashflow statement response: <Response [200]> for JD\n",
      "Market cap processing response: <Response [200]> for JD\n",
      "Report prepared\n",
      "Income statement response: <Response [200]> for ROST\n",
      "Balance sheet response: <Response [200]> for ROST\n",
      "Cashflow statement response: <Response [200]> for ROST\n",
      "Market cap processing response: <Response [200]> for ROST\n",
      "Report prepared\n",
      "Income statement response: <Response [200]> for LEN\n",
      "Balance sheet response: <Response [200]> for LEN\n",
      "Cashflow statement response: <Response [200]> for LEN\n",
      "Market cap processing response: <Response [200]> for LEN\n",
      "Report prepared\n",
      "Income statement response: <Response [200]> for FAST\n",
      "Balance sheet response: <Response [200]> for FAST\n",
      "Cashflow statement response: <Response [200]> for FAST\n",
      "Market cap processing response: <Response [200]> for FAST\n",
      "Report prepared\n",
      "Income statement response: <Response [200]> for NDAQ\n",
      "Balance sheet response: <Response [200]> for NDAQ\n",
      "Cashflow statement response: <Response [200]> for NDAQ\n",
      "Market cap processing response: <Response [200]> for NDAQ\n",
      "Report prepared\n",
      "Income statement response: <Response [200]> for AXON\n",
      "Balance sheet response: <Response [200]> for AXON\n",
      "Cashflow statement response: <Response [200]> for AXON\n",
      "Market cap processing response: <Response [200]> for AXON\n",
      "Report prepared\n",
      "Income statement response: <Response [200]> for MSCI\n",
      "Balance sheet response: <Response [200]> for MSCI\n",
      "Cashflow statement response: <Response [200]> for MSCI\n",
      "Market cap processing response: <Response [200]> for MSCI\n",
      "Report prepared\n",
      "Income statement response: <Response [200]> for BCS\n",
      "Balance sheet response: <Response [200]> for BCS\n",
      "Cashflow statement response: <Response [200]> for BCS\n",
      "Market cap processing response: <Response [200]> for BCS\n",
      "Report prepared\n"
     ]
    }
   ],
   "source": [
    "# ticker_list = [\"AAPL\", \"META\", \"NVDA\", \"MSFT\", \"AMZN\", \"GOOG\", \"TSLA\", \"WMT\", \"WMT\", \"JPM\", \"V\", \"XOM\", \"ORCL\", \"MA\", \"COST\", \"HD\", \"PG\", \"NFLX\", \"JNJ\", \"BAC\"]\n",
    "# ticker_list = [\"JNJ\", \"BAC\", \"CVX\", \"BX\", \"ADBE\", \"AMD\", \"PEP\", \"MS\", \"DIS\", \"MCD\", \"AZN\", \"SHEL\", \"VZ\", \"T\", \"BLK\", \"UL\", \"SHOP\", \"LMT\", \"DE\", \"SONY\"]\n",
    "#ticker_list = [\"UBER\", \"RIO\", \"DELL\", \"UBS\", \"WM\", \"CRWD\", \"ABNB\", \"PYPL\", \"IBKR\", \"DASH\", \"TRI\", \"MMM\", \"GM\", \"SRE\", \"MET\", \"ROP\", \"TGT\"]\n",
    "ticker_list = [\"TRV\", \"SNOW\", \"BK\", \"MBGYY\", \"RYCEY\", \"DHI\", \"URI\", \"NTES\", \"AZO\", \"DDOG\", \"JD\", \"ROST\", \"LEN\", \"FAST\", \"NDAQ\", \"AXON\", \"MSCI\", \"BCS\"]\n",
    "\n",
    "for ticker in ticker_list:\n",
    "    training_data = prepare_and_export_report(ticker)"
   ]
  },
  {
   "cell_type": "code",
   "execution_count": null,
   "id": "8c4bde5d-2fb2-4634-9fe6-cd4eab333db4",
   "metadata": {},
   "outputs": [],
   "source": []
  }
 ],
 "metadata": {
  "kernelspec": {
   "display_name": "Python 3 (ipykernel)",
   "language": "python",
   "name": "python3"
  },
  "language_info": {
   "codemirror_mode": {
    "name": "ipython",
    "version": 3
   },
   "file_extension": ".py",
   "mimetype": "text/x-python",
   "name": "python",
   "nbconvert_exporter": "python",
   "pygments_lexer": "ipython3",
   "version": "3.11.5"
  }
 },
 "nbformat": 4,
 "nbformat_minor": 5
}
